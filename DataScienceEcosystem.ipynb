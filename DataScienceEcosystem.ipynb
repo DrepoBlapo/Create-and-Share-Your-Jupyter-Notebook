{
 "cells": [
  {
   "cell_type": "markdown",
   "id": "32b99607-301b-49b0-a121-e1de092b55f9",
   "metadata": {},
   "source": [
    "# Data Science Tools and Ecosystem"
   ]
  },
  {
   "cell_type": "markdown",
   "id": "5dca9f8f-1fbb-41ea-86e2-b482d6c7b73c",
   "metadata": {},
   "source": [
    "In this notebook, Data Science Tools and Ecosystem are summarized."
   ]
  },
  {
   "cell_type": "markdown",
   "id": "06115ede-7c49-4d56-a98e-703af36f7d40",
   "metadata": {},
   "source": [
    "Some of the popular languages that Data Scientists use are:\n",
    "1. Python\n",
    "2. SQL\n",
    "3. R"
   ]
  },
  {
   "cell_type": "markdown",
   "id": "d3458d12-2915-47d6-a4ab-0721d2a4e9c6",
   "metadata": {},
   "source": [
    "Some of the commonly used libraries used by Data Scientists include:\n",
    "1. Pandas\n",
    "2. Numpy\n",
    "3. Scikitlearn"
   ]
  },
  {
   "cell_type": "markdown",
   "id": "872806d4-f8ea-4aca-b377-e9305dc6c62d",
   "metadata": {},
   "source": [
    "|Data Science Tools|\n",
    "|----|\n",
    "|Jupyter Notebook|\n",
    "|RStudio|\n",
    "|Visual Studio Code|"
   ]
  },
  {
   "cell_type": "markdown",
   "id": "21a9aa00-2d3d-4e77-9f71-b04245d2cfeb",
   "metadata": {},
   "source": [
    "### Below are a few examples of evaluating arithmetic expressions in Python\n"
   ]
  },
  {
   "cell_type": "code",
   "execution_count": 8,
   "id": "1ff94682-311b-4478-8b74-5c0e0e0d5597",
   "metadata": {},
   "outputs": [
    {
     "data": {
      "text/plain": [
       "17"
      ]
     },
     "execution_count": 8,
     "metadata": {},
     "output_type": "execute_result"
    }
   ],
   "source": [
    "#This a simple arithmetic expression to mutiply then add integers\n",
    "(3*4)+5"
   ]
  },
  {
   "cell_type": "code",
   "execution_count": 9,
   "id": "04b807e3-2d78-445e-84b1-bbc2c5061158",
   "metadata": {},
   "outputs": [
    {
     "data": {
      "text/plain": [
       "3.3333333333333335"
      ]
     },
     "execution_count": 9,
     "metadata": {},
     "output_type": "execute_result"
    }
   ],
   "source": [
    "#This will convert 200 minutes to hours by diving by 60\n",
    "200/60"
   ]
  },
  {
   "cell_type": "markdown",
   "id": "5d52ecee-af6c-47cf-bbe9-5a430ce73510",
   "metadata": {},
   "source": [
    "__Objectives:__\n",
    "* List popular languages for Data Science\n",
    "* List libraries commonly used by Data Scientists\n",
    "* List open source development enviroments using a column\n",
    "* Use of arithmetics expressions\n",
    "* Problem solving (conversion of minutes into hours)\n"
   ]
  },
  {
   "cell_type": "markdown",
   "id": "ce4f37e9-8517-449e-8337-93f06e7589dc",
   "metadata": {},
   "source": [
    "## Author\n",
    "Pedro Pablo Vicente González"
   ]
  },
  {
   "cell_type": "code",
   "execution_count": null,
   "id": "4cacafa8-c8de-45a3-97bf-c587340d4ec0",
   "metadata": {},
   "outputs": [],
   "source": []
  }
 ],
 "metadata": {
  "kernelspec": {
   "display_name": "Python 3 (ipykernel)",
   "language": "python",
   "name": "python3"
  },
  "language_info": {
   "codemirror_mode": {
    "name": "ipython",
    "version": 3
   },
   "file_extension": ".py",
   "mimetype": "text/x-python",
   "name": "python",
   "nbconvert_exporter": "python",
   "pygments_lexer": "ipython3",
   "version": "3.11.5"
  }
 },
 "nbformat": 4,
 "nbformat_minor": 5
}
